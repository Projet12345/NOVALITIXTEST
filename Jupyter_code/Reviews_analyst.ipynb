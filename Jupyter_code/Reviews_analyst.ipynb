{
 "cells": [
  {
   "cell_type": "markdown",
   "id": "d95f7836",
   "metadata": {},
   "source": [
    "## Analyse des sentiments pour les critiques de films"
   ]
  },
  {
   "cell_type": "code",
   "execution_count": 17,
   "id": "3fb3e6fd",
   "metadata": {},
   "outputs": [
    {
     "name": "stderr",
     "output_type": "stream",
     "text": [
      "[nltk_data] Downloading package punkt to /home/anderson/nltk_data...\n",
      "[nltk_data]   Package punkt is already up-to-date!\n"
     ]
    }
   ],
   "source": [
    "import pandas as pd\n",
    "from sklearn.model_selection import train_test_split\n",
    "from tensorflow.keras.preprocessing.text import Tokenizer\n",
    "from tensorflow.keras.preprocessing.sequence import pad_sequences\n",
    "from tensorflow.keras.models import Sequential\n",
    "from tensorflow.keras.layers import Embedding, LSTM, Dense,Dropout\n",
    "import matplotlib.pyplot as plt\n",
    "from sklearn.metrics import roc_curve, precision_recall_curve,confusion_matrix, roc_curve, auc\n",
    "from sklearn.metrics import accuracy_score, precision_score, recall_score, f1_score\n",
    "from sklearn.model_selection import learning_curve\n",
    "from tensorflow.keras.preprocessing.sequence import pad_sequences\n",
    "import re\n",
    "import nltk\n",
    "nltk.download('punkt')\n",
    "from nltk.corpus import stopwords\n",
    "from nltk.tokenize import word_tokenize\n",
    "import string\n",
    "import numpy as np\n",
    "from tensorflow.keras.preprocessing.text import Tokenizer\n",
    "import pickle"
   ]
  },
  {
   "cell_type": "code",
   "execution_count": 3,
   "id": "011cb764",
   "metadata": {},
   "outputs": [],
   "source": [
    "# Charger le fichier CSV en un DataFrame pandas\n",
    "data = pd.read_csv('./data/IMDB_Dataset.csv')\n",
    "sentiment_mapping = {'positive': 1, 'negative': 0} #transformation des sentiment en binaire\n",
    "data['sentiment'] = data['sentiment'].map(sentiment_mapping)"
   ]
  },
  {
   "cell_type": "markdown",
   "id": "d5b75868",
   "metadata": {},
   "source": [
    "## Prétraitement du texte"
   ]
  },
  {
   "cell_type": "code",
   "execution_count": 4,
   "id": "17e37fba",
   "metadata": {},
   "outputs": [
    {
     "name": "stdout",
     "output_type": "stream",
     "text": [
      "                                                  review  sentiment\n",
      "0      One reviewers mentioned watching  Oz episode l...          1\n",
      "1      wonderful little production  filming technique...          1\n",
      "2      thought wonderful way spend time hot summer we...          1\n",
      "3      Basically  family little boy  Jake  thinks  zo...          0\n",
      "4      Petter Mattei   Love Time Money  visually stun...          1\n",
      "...                                                  ...        ...\n",
      "49995  thought movie right good job  nt creative orig...          1\n",
      "49996  Bad plot  bad dialogue  bad acting  idiotic di...          0\n",
      "49997  Catholic taught parochial elementary schools n...          0\n",
      "49998   going disagree previous comment side Maltin o...          0\n",
      "49999  one expects Star Trek movies high art  fans ex...          0\n",
      "\n",
      "[50000 rows x 2 columns]\n"
     ]
    }
   ],
   "source": [
    "def preprocess_text(text):\n",
    "    # Suppression des balises HTML\n",
    "    text = re.sub(r'<.*?>', '', text)\n",
    "    \n",
    "    # Suppression des stopwords\n",
    "    stop_words = set(stopwords.words('english'))\n",
    "    tokens = word_tokenize(text)\n",
    "    filtered_text = [word for word in tokens if word.lower() not in stop_words]\n",
    "    text = ' '.join(filtered_text)\n",
    "    \n",
    "    # Suppression de la ponctuation\n",
    "    text = re.sub(r'[^\\w\\s]', '', text)\n",
    "    # Suppression des lettres isolées\n",
    "    text = re.sub(r'\\b\\w\\b', '', text)\n",
    "    return text\n",
    "# Appliquer le prétraitement aux textes\n",
    "data['review'] = data['review'].apply(preprocess_text)\n",
    "print(data)"
   ]
  },
  {
   "cell_type": "markdown",
   "id": "2e36a78b",
   "metadata": {},
   "source": [
    "## Subdivision des données en ensembles d'entraînement, de validation et de test"
   ]
  },
  {
   "cell_type": "code",
   "execution_count": 5,
   "id": "d021d078",
   "metadata": {},
   "outputs": [
    {
     "name": "stdout",
     "output_type": "stream",
     "text": [
      "['fault actors  put great performances   overall story well executed  movie opens great zinger  crazy old guy forces young Aborigine girl  car road   re forced endure 40 minutes character development entirely new group characters  nt know 40 minutes  turns ones eventually discover girl  body  story progresses thereWhile story pick point  really goes nowhere   hours  asked  point  see characters struggle accusations racism stupidity handled discovery  story ultimately unsatisfying felt unfinished  well acted   strong enough backbone film warrant recommending '\n",
      " 'first thing thought saw films  really film  least imagine spontaneously hear word  film   entirely symbolic  everything figurative meaning  used express thing symbolic way  find strange  acquainted philosophy  religion  spiritual life  think  fairytale  even weird one  chaotic   legend Zu  perfectly transparent  like  tells us images story fight light darkness  fight old humanity  every one search sens life confronted  film obviously made Buddhists  Buddhist  religion vision world human different  far humans human nature necessarily common experiences understand  really beautiful film  films like  films meaning  many empty stories good make time pass quickly '\n",
      " 'Postfeminist depiction cruelty sadismSpoiler alert  underrated gem film tells story Flavia  Fifteenth Century girl Noble birth walled convent defining father indeed whole Medieval Christian society viewing fallen Islamic warrior human rather demonic figureUnable accept patriarchal rule convent  explicitly stated scene Bishop arrives flanked soldiers monks  Flavia begins explicitly question society finds  butting whole system subjugation  repression violence  inevitably brings tragic end around herBilled piece nunsploitation far truth  film depiction consequences violence  effects patriarchal dominance  nature rebellion corruption human spiritI described title piece postfeminist  end Flavia  triumphs must always corrupted  compromised perverted men  Even Flavia  gruesome end perpetrated men men  women turn away monks look without horrorAs much discussed violence  depiction effects violence horrors world driven mad religious excess  shied away violence would limited film  impact  would cheapened film allowed assimilated within Patriarchal discourse exposing  addition realistic portrait medieval societyBeautifully filmed  brilliantly acted  notably Florinda Bolkin Maria Casares   containing wonderful score piovani still challenging years Flavia classic European Cinema '\n",
      " ...\n",
      " 'saw movie say  drive  days  seems like would great 2nd feature drive 1977  maybe playing one Joan Collins movies    worth watching re feeling nostalgic 70   Silly plot full holes  remind one era made  Interesting see Melanie Griffith young Anne Lockhart quite attractive  though much actress  fact  much acting going movie   sort Dukes Hazzard adventure without twang 1969 Dodge charger jumping stuff Woods  Mecrury Comet jumping garbage dump one '\n",
      " 'Cameron Diaz woman married judge  played Harvey Keitel  whose life fine ex shows things get little complicated  watching movie several times asked  movie ridiculous blah poorly scripted without believability  audience really car happens  Even lovely Cameron ca nt save one scale one ten  '\n",
      " 'good idea use live animals department store window displays      Hare Conditioned  sale Bugs helping promote store manager  Nelson  transferring new department  taxidermy  Naturally  Bugs objects fun beginsusing nearly every department store  children  wear  sports  shoes  costumes  women  nightgowns  nt ask    Bugs comes top every turn  even referring manager  Great GilderSNEEZE   Even trapped confines elevator  Bugs makes best situationDirector Jones top pictorial game always  Blanc  Bugs  natch  Nelson  manager  sound like radio mainstay Gildersleeves  go ask grandparents  And sage word advice  confronted fuzzylooking woman wanting try bathroom slippers  always check earsTen stars  Hare Conditioner   best argument yet animal labor laws ']\n"
     ]
    }
   ],
   "source": [
    "X = data['review'].values\n",
    "y = data['sentiment'].values\n",
    "# Subdivision des données en ensembles d'entraînement, de validation et de test\n",
    "X_train, X_test, y_train, y_test = train_test_split(X, y, test_size=0.2, random_state=42)\n",
    "X_train, X_val, y_train, y_val = train_test_split(X_train, y_train, test_size=0.2, random_state=42)\n",
    "print(X_train)"
   ]
  },
  {
   "cell_type": "markdown",
   "id": "f74275e5",
   "metadata": {},
   "source": [
    "## Tokenization"
   ]
  },
  {
   "cell_type": "code",
   "execution_count": 6,
   "id": "61a81ad4",
   "metadata": {},
   "outputs": [],
   "source": [
    "tokenizer = Tokenizer()\n",
    "tokenizer.fit_on_texts(X_train)\n",
    "\n",
    "X_train_seq = tokenizer.texts_to_sequences(X_train)\n",
    "X_test_seq = tokenizer.texts_to_sequences(X_test)\n",
    "X_val_seq = tokenizer.texts_to_sequences(X_val)\n",
    "vocab_size = len(tokenizer.word_index) + 1\n",
    "\n",
    "max_len = 100  # Définir la longueur maximale des séquences\n",
    "X_train_seq = pad_sequences(X_train_seq, maxlen=max_len)\n",
    "X_test_seq = pad_sequences(X_test_seq, maxlen=max_len)\n",
    "X_val_seq = pad_sequences(X_val_seq, maxlen=max_len)"
   ]
  },
  {
   "cell_type": "markdown",
   "id": "d0532a6d",
   "metadata": {},
   "source": [
    "## Création du modèle"
   ]
  },
  {
   "cell_type": "code",
   "execution_count": 14,
   "id": "c27b50cc",
   "metadata": {},
   "outputs": [
    {
     "name": "stderr",
     "output_type": "stream",
     "text": [
      "2023-12-17 14:46:47.387500: E tensorflow/compiler/xla/stream_executor/cuda/cuda_driver.cc:267] failed call to cuInit: CUDA_ERROR_NO_DEVICE: no CUDA-capable device is detected\n",
      "2023-12-17 14:46:47.387575: I tensorflow/compiler/xla/stream_executor/cuda/cuda_diagnostics.cc:156] kernel driver does not appear to be running on this host (anderson-HP-ProBook-4540s): /proc/driver/nvidia/version does not exist\n",
      "2023-12-17 14:46:48.112122: W tensorflow/tsl/framework/cpu_allocator_impl.cc:82] Allocation of 72816640 exceeds 10% of free system memory.\n",
      "2023-12-17 14:46:49.167662: W tensorflow/tsl/framework/cpu_allocator_impl.cc:82] Allocation of 72816640 exceeds 10% of free system memory.\n",
      "2023-12-17 14:46:49.792752: W tensorflow/tsl/framework/cpu_allocator_impl.cc:82] Allocation of 72816640 exceeds 10% of free system memory.\n"
     ]
    }
   ],
   "source": [
    "model = Sequential()\n",
    "model.add(Embedding(input_dim=vocab_size, output_dim=128, input_length=max_len))\n",
    "model.add(LSTM(128))\n",
    "model.add(Dense(1, activation='sigmoid'))\n",
    "model.add(Dropout(0.3))\n",
    "model.compile(optimizer='adam', loss='binary_crossentropy', metrics=['accuracy'])"
   ]
  },
  {
   "cell_type": "code",
   "execution_count": 15,
   "id": "bd8334ec",
   "metadata": {},
   "outputs": [
    {
     "name": "stderr",
     "output_type": "stream",
     "text": [
      "2023-12-17 14:47:27.552648: W tensorflow/tsl/framework/cpu_allocator_impl.cc:82] Allocation of 12800000 exceeds 10% of free system memory.\n"
     ]
    },
    {
     "name": "stdout",
     "output_type": "stream",
     "text": [
      "Epoch 1/2\n"
     ]
    },
    {
     "name": "stderr",
     "output_type": "stream",
     "text": [
      "2023-12-17 14:47:28.768893: W tensorflow/tsl/framework/cpu_allocator_impl.cc:82] Allocation of 72816640 exceeds 10% of free system memory.\n"
     ]
    },
    {
     "name": "stdout",
     "output_type": "stream",
     "text": [
      "500/500 [==============================] - 384s 739ms/step - loss: 2.5857 - accuracy: 0.7262 - val_loss: 0.4714 - val_accuracy: 0.8264\n",
      "Epoch 2/2\n",
      "500/500 [==============================] - 316s 633ms/step - loss: 2.5231 - accuracy: 0.7882 - val_loss: 0.4048 - val_accuracy: 0.8516\n"
     ]
    }
   ],
   "source": [
    "# Entraînement du modèle\n",
    "history =model.fit(X_train_seq, y_train, batch_size=64, epochs=2, validation_data=(X_val_seq, y_val))"
   ]
  },
  {
   "cell_type": "markdown",
   "id": "25d157e6",
   "metadata": {},
   "source": [
    "## Evaluation du modèle"
   ]
  },
  {
   "cell_type": "code",
   "execution_count": 16,
   "id": "a0c75659",
   "metadata": {},
   "outputs": [
    {
     "name": "stdout",
     "output_type": "stream",
     "text": [
      "313/313 [==============================] - 21s 64ms/step\n",
      "Accuracy: 0.8547\n",
      "Precision: 0.9036470058532192\n",
      "Recall: 0.7965866243302242\n",
      "F1 score: 0.8467461238266005\n"
     ]
    }
   ],
   "source": [
    "#Evaluation du modèle\n",
    "# Obtention des prédictions du modèle sur les données de test\n",
    "y_pred = model.predict(X_test_seq)\n",
    "y_pred_binary = np.round(y_pred)\n",
    "# Calcul des métriques d'évaluation\n",
    "accuracy = accuracy_score(y_test, y_pred_binary)\n",
    "precision = precision_score(y_test, y_pred_binary)\n",
    "recall = recall_score(y_test, y_pred_binary)\n",
    "f1 = f1_score(y_test, y_pred_binary)\n",
    "\n",
    "# Affichage des métriques\n",
    "print(\"Accuracy:\", accuracy)\n",
    "print(\"Precision:\", precision)\n",
    "print(\"Recall:\", recall)\n",
    "print(\"F1 score:\", f1)"
   ]
  },
  {
   "cell_type": "markdown",
   "id": "e0ecfc5c",
   "metadata": {},
   "source": [
    "## Test réel avec un avis"
   ]
  },
  {
   "cell_type": "code",
   "execution_count": 19,
   "id": "375ecd94",
   "metadata": {},
   "outputs": [],
   "source": [
    "with open ('../api/review/tokenizer.pkl','wb') as f:\n",
    "    pickle.dump(tokenizer,f)"
   ]
  },
  {
   "cell_type": "code",
   "execution_count": 22,
   "id": "03fcdcd9",
   "metadata": {},
   "outputs": [
    {
     "name": "stdout",
     "output_type": "stream",
     "text": [
      "1/1 [==============================] - 0s 323ms/step\n",
      "[[0.5394903]]\n",
      "La revue est positive.\n"
     ]
    }
   ],
   "source": [
    "new_review = \"good film\"\n",
    "# Prétraitement de la revue (ignoré dans ce cas)\n",
    "preprocessed_review = new_review\n",
    "# Encodage de la revue\n",
    "encoded_review = tokenizer.texts_to_sequences([preprocessed_review])\n",
    "# Ajustement de la longueur de la séquence\n",
    "encoded_review = pad_sequences(encoded_review, maxlen=max_len)\n",
    "# Passage de la revue au modèle\n",
    "prediction = model.predict(encoded_review)\n",
    "print(prediction)\n",
    "# Interprétation de la prédiction\n",
    "if prediction > 0.5:\n",
    "    print(\"La revue est positive.\")\n",
    "else:\n",
    "    print(\"La revue est négative.\")"
   ]
  },
  {
   "cell_type": "markdown",
   "id": "8f897a2b",
   "metadata": {},
   "source": [
    "## Tracé des courbes importantes"
   ]
  },
  {
   "cell_type": "code",
   "execution_count": 19,
   "id": "f2d9ddff",
   "metadata": {},
   "outputs": [
    {
     "data": {
      "image/png": "[encoded data removed]",
      "text/plain": [
       "<Figure size 1200x500 with 2 Axes>"
      ]
     },
     "metadata": {},
     "output_type": "display_data"
    }
   ],
   "source": [
    "# Extraire les métriques d'apprentissage et de validation à partir de l'historique\n",
    "train_acc = history.history['accuracy']\n",
    "val_acc = history.history['val_accuracy']\n",
    "train_loss = history.history['loss']\n",
    "val_loss = history.history['val_loss']\n",
    "\n",
    "# Tracer les courbes d'apprentissage et de perte sur une même figure\n",
    "epochs = range(1, len(train_acc) + 1)\n",
    "\n",
    "plt.figure(figsize=(12, 5))\n",
    "\n",
    "plt.subplot(1, 2, 1)\n",
    "plt.plot(epochs, train_acc, 'b', label='Entraînement')\n",
    "plt.plot(epochs, val_acc, 'g', label='Validation')\n",
    "plt.title('Courbe d\\'apprentissage - Exactitude')\n",
    "plt.xlabel('Époques')\n",
    "plt.ylabel('Exactitude')\n",
    "plt.legend()\n",
    "\n",
    "plt.subplot(1, 2, 2)\n",
    "plt.plot(epochs, train_loss, 'b', label='Entraînement')\n",
    "plt.plot(epochs, val_loss, 'g', label='Validation')\n",
    "plt.title('Courbe de perte')\n",
    "plt.xlabel('Époques')\n",
    "plt.ylabel('Perte')\n",
    "plt.legend()\n",
    "\n",
    "plt.tight_layout()\n",
    "plt.show()"
   ]
  },
  {
   "cell_type": "code",
   "execution_count": 26,
   "id": "6f9dc1e8",
   "metadata": {},
   "outputs": [
    {
     "name": "stderr",
     "output_type": "stream",
     "text": [
      "WARNING:absl:Found untraced functions such as _update_step_xla, lstm_cell_layer_call_fn, lstm_cell_layer_call_and_return_conditional_losses while saving (showing 3 of 3). These functions will not be directly callable after loading.\n"
     ]
    },
    {
     "name": "stdout",
     "output_type": "stream",
     "text": [
      "INFO:tensorflow:Assets written to: ../api/review/assets\n"
     ]
    },
    {
     "name": "stderr",
     "output_type": "stream",
     "text": [
      "INFO:tensorflow:Assets written to: ../api/review/assets\n"
     ]
    }
   ],
   "source": [
    "# Sauvegarde du modèle\n"
   ]
  },
  {
   "cell_type": "code",
   "execution_count": null,
   "id": "bd248257",
   "metadata": {},
   "outputs": [],
   "source": []
  },
  {
   "cell_type": "code",
   "execution_count": null,
   "id": "97149f9e",
   "metadata": {},
   "outputs": [],
   "source": []
  }
 ],
 "metadata": {
  "kernelspec": {
   "display_name": "Python 3 (ipykernel)",
   "language": "python",
   "name": "python3"
  },
  "language_info": {
   "codemirror_mode": {
    "name": "ipython",
    "version": 3
   },
   "file_extension": ".py",
   "mimetype": "text/x-python",
   "name": "python",
   "nbconvert_exporter": "python",
   "pygments_lexer": "ipython3",
   "version": "3.8.10"
  }
 },
 "nbformat": 4,
 "nbformat_minor": 5
}
